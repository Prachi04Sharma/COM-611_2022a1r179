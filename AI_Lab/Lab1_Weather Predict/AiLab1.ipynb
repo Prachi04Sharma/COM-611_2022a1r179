{
 "cells": [
  {
   "cell_type": "code",
   "execution_count": 8,
   "metadata": {},
   "outputs": [
    {
     "name": "stdout",
     "output_type": "stream",
     "text": [
      "   Sunny  Warm Normal  Strong Warm.1    Same  Yes\n",
      "0  Sunny  Warm   High  Strong   Warm    Same  Yes\n",
      "1  Rainy  Cold   High  Strong   Warm  Change   No\n",
      "2  Sunny  Warm   High  Strong   Cool  Change  Yes\n"
     ]
    }
   ],
   "source": [
    "   import os\n",
    "\n",
    "   file_path = r'C:\\Users\\prach\\OneDrive\\Desktop\\AI_Lab\\weather.csv'\n",
    "   if os.path.exists(file_path):\n",
    "       df = pd.read_csv(file_path)\n",
    "       print(df.head())\n",
    "   else:\n",
    "       print(f\"File not found: {file_path}\")\n",
    "       "
   ]
  },
  {
   "cell_type": "code",
   "execution_count": 10,
   "metadata": {},
   "outputs": [
    {
     "name": "stdout",
     "output_type": "stream",
     "text": [
      "\n",
      " The Given Training Data Set\n",
      "\n",
      "['Sunny', 'Warm', 'Normal', 'Strong', 'Warm', 'Same', 'Yes']\n",
      "['Sunny', 'Warm', 'High', 'Strong', 'Warm', 'Same', 'Yes']\n",
      "['Rainy', 'Cold', 'High', 'Strong', 'Warm', 'Change', 'No']\n",
      "['Sunny', 'Warm', 'High', 'Strong', 'Cool', 'Change', 'Yes']\n",
      "\n",
      " The Initial Value Of Hypothesis: \n",
      "['0', '0', '0', '0', '0', '0']\n",
      "\n",
      " Find S: Finding a Maximally Specific Hypothesis\n",
      "\n",
      "For Training Instance No:1 the hypothesis is ['Sunny', 'Warm', 'Normal', 'Strong', 'Warm', 'Same']\n",
      "For Training Instance No:2 the hypothesis is ['Sunny', 'Warm', '?', 'Strong', 'Warm', 'Same']\n",
      "For Training Instance No:3 the hypothesis is ['Sunny', 'Warm', '?', 'Strong', 'Warm', 'Same']\n",
      "For Training Instance No:4 the hypothesis is ['Sunny', 'Warm', '?', 'Strong', '?', '?']\n",
      "\n",
      " The Maximally Specific Hypothesis for a given Training Examples:\n",
      "\n",
      "['Sunny', 'Warm', '?', 'Strong', '?', '?']\n"
     ]
    }
   ],
   "source": [
    "#Working with Find-S Algorithm \n",
    "import csv\n",
    "import pandas as pd\n",
    "import os\n",
    "num_attributes = 6\n",
    "a = []\n",
    "print(\"\\n The Given Training Data Set\\n\")\n",
    "# Define the full path to the file using a raw string\n",
    "file_path = r'C:\\Users\\prach\\OneDrive\\Desktop\\AI_Lab\\weather.csv'  # Use raw string to avoid unicode escape issues\n",
    "# Check if the file exists before trying to open it\n",
    "if os.path.exists(file_path):\n",
    "    with open(file_path, 'r') as csvfile:\n",
    "        reader = csv.reader(csvfile)\n",
    "        for row in reader:\n",
    "            a.append(row)\n",
    "            print(row)\n",
    "else:\n",
    "    print(f\"File not found: {file_path}\")\n",
    "\n",
    "print(\"\\n The Initial Value Of Hypothesis: \")\n",
    "hypothesis = ['0'] * num_attributes\n",
    "print(hypothesis)\n",
    "\n",
    "# Initialize hypothesis with the first positive examples\n",
    "for j in range(0, num_attributes):\n",
    "    hypothesis[j] = a[0][j]\n",
    "\n",
    "print(\"\\n Find S: Finding a Maximally Specific Hypothesis\\n\")\n",
    "\n",
    "for i in range(0, len(a)):  # Loop through training examples\n",
    "    if a[i][num_attributes] == 'Yes':  # Consider only positive examples\n",
    "        for j in range(0, num_attributes):\n",
    "            if a[i][j] != hypothesis[j]:\n",
    "                hypothesis[j] = '?'\n",
    "            else:\n",
    "                hypothesis[j] = a[i][j]\n",
    "\n",
    "    print(\"For Training Instance No:{0} the hypothesis is\".format(i + 1), hypothesis)\n",
    "\n",
    "print(\"\\n The Maximally Specific Hypothesis for a given Training Examples:\\n\")\n",
    "print(hypothesis)"
   ]
  },
  {
   "cell_type": "code",
   "execution_count": null,
   "metadata": {},
   "outputs": [],
   "source": []
  },
  {
   "cell_type": "code",
   "execution_count": null,
   "metadata": {},
   "outputs": [],
   "source": []
  }
 ],
 "metadata": {
  "kernelspec": {
   "display_name": "base",
   "language": "python",
   "name": "python3"
  },
  "language_info": {
   "codemirror_mode": {
    "name": "ipython",
    "version": 3
   },
   "file_extension": ".py",
   "mimetype": "text/x-python",
   "name": "python",
   "nbconvert_exporter": "python",
   "pygments_lexer": "ipython3",
   "version": "3.11.7"
  }
 },
 "nbformat": 4,
 "nbformat_minor": 2
}
