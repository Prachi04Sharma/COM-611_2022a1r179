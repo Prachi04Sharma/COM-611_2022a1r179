{
 "cells": [
  {
   "cell_type": "code",
   "execution_count": 1,
   "metadata": {},
   "outputs": [],
   "source": [
    "# Implement the linear regression on the salary prediction based on the given set of training data samples.\n",
    "# Read the training data from a csv file."
   ]
  },
  {
   "cell_type": "code",
   "execution_count": 3,
   "metadata": {},
   "outputs": [],
   "source": [
    "#if single independent variable then single linear regression, multiple linear regression.\n",
    "#y=mx+c, y is the dependent variable, m is the slope, x is the independent variable and c is the intercept"
   ]
  },
  {
   "cell_type": "code",
   "execution_count": 4,
   "metadata": {},
   "outputs": [],
   "source": [
    "#By calling warnings, filterwarnings('ignore'), you are telling Python to ignore any warning messages that might be generated during the execution of the code.\n",
    "#This can be useful if you know that the warnings are not important if you want to surpress the warnings to make the output cleaner."
   ]
  },
  {
   "cell_type": "code",
   "execution_count": 5,
   "metadata": {},
   "outputs": [],
   "source": [
    "import warnings\n",
    "warnings.filterwarnings('ignore')"
   ]
  },
  {
   "cell_type": "code",
   "execution_count": 8,
   "metadata": {},
   "outputs": [],
   "source": [
    "#Seaborn: A data visualization library based on the matplotlib.\n",
    "# It provides a high-level interface for creating informative and attractive statistical graphics. "
   ]
  },
  {
   "cell_type": "code",
   "execution_count": null,
   "metadata": {},
   "outputs": [],
   "source": [
    "#Sklearn.model_selection: A module in scikit-learn library that provides various functions for splitting the dataset into train and test sets,\n",
    "# such as train_test_split()."
   ]
  },
  {
   "cell_type": "code",
   "execution_count": null,
   "metadata": {},
   "outputs": [],
   "source": [
    "#Statsmodels.api: A module in scikit learn library that provides a suite of evaluation metrics, including linear regression models."
   ]
  },
  {
   "cell_type": "code",
   "execution_count": 12,
   "metadata": {},
   "outputs": [],
   "source": [
    "# Sklearn.metrics: A module in scikit-learn library that provides a suite of evaluation metrics, including mean squared error (MSE) and R-Squared (R2) score."
   ]
  },
  {
   "cell_type": "code",
   "execution_count": 13,
   "metadata": {},
   "outputs": [],
   "source": [
    "# Overall these imports suggests that code is likely to use statistical models, split the data into training and testing sets, and evaluation the model's performances using various metrics. The seaborn library is also likely to be used for data visualization."
   ]
  },
  {
   "cell_type": "code",
   "execution_count": null,
   "metadata": {},
   "outputs": [],
   "source": [
    "#import libraries \n",
    "import numpy as np\n",
    "import pandas as pd\n",
    "import matplotlib.pyplot as plt\n",
    "import seaborn as sns\n",
    "from sklearn.model "
   ]
  }
 ],
 "metadata": {
  "kernelspec": {
   "display_name": "base",
   "language": "python",
   "name": "python3"
  },
  "language_info": {
   "codemirror_mode": {
    "name": "ipython",
    "version": 3
   },
   "file_extension": ".py",
   "mimetype": "text/x-python",
   "name": "python",
   "nbconvert_exporter": "python",
   "pygments_lexer": "ipython3",
   "version": "3.11.7"
  }
 },
 "nbformat": 4,
 "nbformat_minor": 2
}
